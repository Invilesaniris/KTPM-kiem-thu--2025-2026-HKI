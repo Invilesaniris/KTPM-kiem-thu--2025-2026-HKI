{
 "cells": [
  {
   "cell_type": "code",
   "execution_count": 2,
   "id": "6bfa0a85-ec8c-4c17-96d8-f65256416816",
   "metadata": {},
   "outputs": [
    {
     "name": "stdout",
     "output_type": "stream",
     "text": [
      "Overwriting t1.inp\n"
     ]
    }
   ],
   "source": [
    "%%writefile t1.inp\n",
    "11"
   ]
  },
  {
   "cell_type": "code",
   "execution_count": 4,
   "id": "9256ed16-31f7-464e-8550-81a804a17348",
   "metadata": {},
   "outputs": [
    {
     "name": "stdout",
     "output_type": "stream",
     "text": [
      "Overwriting t2.inp\n"
     ]
    }
   ],
   "source": [
    "%%writefile t2.inp\n",
    "10"
   ]
  },
  {
   "cell_type": "code",
   "execution_count": null,
   "id": "eb42121e-2d65-4f24-ab83-4c0c9e0570ea",
   "metadata": {},
   "outputs": [],
   "source": []
  }
 ],
 "metadata": {
  "kernelspec": {
   "display_name": "Python 3 (ipykernel)",
   "language": "python",
   "name": "python3"
  },
  "language_info": {
   "codemirror_mode": {
    "name": "ipython",
    "version": 3
   },
   "file_extension": ".py",
   "mimetype": "text/x-python",
   "name": "python",
   "nbconvert_exporter": "python",
   "pygments_lexer": "ipython3",
   "version": "3.11.4"
  }
 },
 "nbformat": 4,
 "nbformat_minor": 5
}
