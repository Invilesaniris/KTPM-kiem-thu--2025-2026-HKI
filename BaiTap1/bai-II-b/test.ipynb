{
 "cells": [
  {
   "cell_type": "code",
   "execution_count": 3,
   "id": "8d3003ef",
   "metadata": {},
   "outputs": [
    {
     "name": "stdout",
     "output_type": "stream",
     "text": [
      "Overwriting t1.inp\n"
     ]
    }
   ],
   "source": [
    "%%writefile t1.inp\n",
    "11"
   ]
  },
  {
   "cell_type": "code",
   "execution_count": 5,
   "id": "420176af",
   "metadata": {},
   "outputs": [
    {
     "name": "stdout",
     "output_type": "stream",
     "text": [
      "Overwriting t2.inp\n"
     ]
    }
   ],
   "source": [
    "%%writefile t2.inp\n",
    "10"
   ]
  },
  {
   "cell_type": "code",
   "execution_count": 8,
   "id": "6a3bc4d6",
   "metadata": {},
   "outputs": [
    {
     "name": "stdout",
     "output_type": "stream",
     "text": [
      "Overwriting t3.inp\n"
     ]
    }
   ],
   "source": [
    "%%writefile t3.inp\n",
    "-1"
   ]
  },
  {
   "cell_type": "code",
   "execution_count": 11,
   "id": "aca023c1",
   "metadata": {},
   "outputs": [
    {
     "name": "stdout",
     "output_type": "stream",
     "text": [
      "Expected: 22\n",
      "22\n",
      "Expected: -10\n",
      "-10\n",
      "Expected: 1\n",
      "-2\n"
     ]
    }
   ],
   "source": [
    "!g++ baib.cpp -o baib\n",
    "\n",
    "!./baib < t1.inp > t1.out\n",
    "!echo \"Expected: 22\"\n",
    "!cat t1.out\n",
    "\n",
    "!./baib < t2.inp > t2.out\n",
    "!echo \"Expected: -10\"\n",
    "!cat t2.out\n",
    "\n",
    "!./baib < t3.inp > t3.out\n",
    "!echo \"Expected: 1\"\n",
    "!cat t3.out"
   ]
  }
 ],
 "metadata": {
  "kernelspec": {
   "display_name": "Python 3 (ipykernel)",
   "language": "python",
   "name": "python3"
  }
 },
 "nbformat": 4,
 "nbformat_minor": 5
}
