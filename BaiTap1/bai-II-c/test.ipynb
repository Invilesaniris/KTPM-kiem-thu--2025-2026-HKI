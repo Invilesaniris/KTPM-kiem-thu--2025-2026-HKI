{
 "cells": [
  {
   "cell_type": "code",
   "execution_count": 2,
   "id": "a43b2162",
   "metadata": {},
   "outputs": [
    {
     "name": "stdout",
     "output_type": "stream",
     "text": [
      "Overwriting t1.inp\n"
     ]
    }
   ],
   "source": [
    "%%writefile t1.inp\n",
    "-2"
   ]
  },
  {
   "cell_type": "code",
   "execution_count": 4,
   "id": "a1ce5353",
   "metadata": {},
   "outputs": [
    {
     "name": "stdout",
     "output_type": "stream",
     "text": [
      "Overwriting t2.inp\n"
     ]
    }
   ],
   "source": [
    "%%writefile t2.inp\n",
    "10"
   ]
  },
  {
   "cell_type": "code",
   "execution_count": 5,
   "id": "ea670bc8",
   "metadata": {},
   "outputs": [
    {
     "name": "stdout",
     "output_type": "stream",
     "text": [
      "Expected: -4\n",
      "-4\n",
      "Expected: 20\n",
      "20\n"
     ]
    }
   ],
   "source": [
    "!g++ baic.cpp -o baic\n",
    "\n",
    "!./baic < t1.inp > t1.out\n",
    "!echo \"Expected: -4\"\n",
    "!cat t1.out\n",
    "\n",
    "!./baic < t2.inp > t2.out\n",
    "!echo \"Expected: 20\"\n",
    "!cat t2.out"
   ]
  }
 ],
 "metadata": {
  "kernelspec": {
   "display_name": "Python 3 (ipykernel)",
   "language": "python",
   "name": "python3"
  },
  "language_info": {
   "codemirror_mode": {
    "name": "ipython",
    "version": 3
   },
   "file_extension": ".py",
   "mimetype": "text/x-python",
   "name": "python",
   "nbconvert_exporter": "python",
   "pygments_lexer": "ipython3",
   "version": "3.12.1"
  }
 },
 "nbformat": 4,
 "nbformat_minor": 5
}
