{
 "cells": [
  {
   "cell_type": "code",
   "execution_count": 12,
   "id": "97d6caa6",
   "metadata": {},
   "outputs": [
    {
     "name": "stdout",
     "output_type": "stream",
     "text": [
      "Overwriting t1.inp\n"
     ]
    }
   ],
   "source": [
    "%%writefile t1.inp\n",
    "5 5 5"
   ]
  },
  {
   "cell_type": "code",
   "execution_count": 13,
   "id": "2da89ddc",
   "metadata": {},
   "outputs": [
    {
     "name": "stdout",
     "output_type": "stream",
     "text": [
      "Overwriting t2.inp\n"
     ]
    }
   ],
   "source": [
    "%%writefile t2.inp\n",
    "2 1 5"
   ]
  },
  {
   "cell_type": "code",
   "execution_count": 14,
   "id": "40e71131",
   "metadata": {},
   "outputs": [
    {
     "name": "stdout",
     "output_type": "stream",
     "text": [
      "Writing t3.inp\n"
     ]
    }
   ],
   "source": [
    "%%writefile t3.inp\n",
    "-2 0 -1"
   ]
  },
  {
   "cell_type": "code",
   "execution_count": 15,
   "id": "9ea94c94",
   "metadata": {},
   "outputs": [
    {
     "name": "stdout",
     "output_type": "stream",
     "text": [
      "Writing t4.inp\n"
     ]
    }
   ],
   "source": [
    "%%writefile t4.inp\n",
    "5 2 1"
   ]
  },
  {
   "cell_type": "code",
   "execution_count": 16,
   "id": "ce023cf4",
   "metadata": {},
   "outputs": [
    {
     "name": "stdout",
     "output_type": "stream",
     "text": [
      "Expected: 5\n",
      "0\n",
      "Expected: 5\n",
      "5\n",
      "Expected: 0\n",
      "0\n",
      "Expected: 5\n",
      "5\n"
     ]
    }
   ],
   "source": [
    "!g++ baie.cpp -o baie\n",
    "\n",
    "!./baie < t1.inp >t1.out\n",
    "!echo \"Expected: 5\"\n",
    "!cat t1.out\n",
    "\n",
    "!./baie < t2.inp >t2.out\n",
    "!echo \"Expected: 5\"\n",
    "!cat t2.out\n",
    "\n",
    "!./baie < t3.inp >t3.out\n",
    "!echo \"Expected: 0\"\n",
    "!cat t3.out\n",
    "\n",
    "!./baie < t4.inp >t4.out\n",
    "!echo \"Expected: 5\"\n",
    "!cat t4.out"
   ]
  },
  {
   "cell_type": "code",
   "execution_count": null,
   "id": "8893e50a",
   "metadata": {},
   "outputs": [],
   "source": []
  }
 ],
 "metadata": {
  "kernelspec": {
   "display_name": "Python 3 (ipykernel)",
   "language": "python",
   "name": "python3"
  },
  "language_info": {
   "codemirror_mode": {
    "name": "ipython",
    "version": 3
   },
   "file_extension": ".py",
   "mimetype": "text/x-python",
   "name": "python",
   "nbconvert_exporter": "python",
   "pygments_lexer": "ipython3",
   "version": "3.12.1"
  }
 },
 "nbformat": 4,
 "nbformat_minor": 5
}
