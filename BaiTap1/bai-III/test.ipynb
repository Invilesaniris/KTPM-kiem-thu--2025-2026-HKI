{
 "cells": [
  {
   "cell_type": "code",
   "execution_count": 1,
   "id": "f3fbf421",
   "metadata": {},
   "outputs": [
    {
     "name": "stdout",
     "output_type": "stream",
     "text": [
      "Writing t1.inp\n"
     ]
    }
   ],
   "source": [
    "%%writefile t1.inp\n",
    "0 0 0"
   ]
  },
  {
   "cell_type": "code",
   "execution_count": 3,
   "id": "adcf0f6c",
   "metadata": {},
   "outputs": [
    {
     "name": "stdout",
     "output_type": "stream",
     "text": [
      "Overwriting t2.inp\n"
     ]
    }
   ],
   "source": [
    "%%writefile t2.inp\n",
    "0 0 1"
   ]
  },
  {
   "cell_type": "code",
   "execution_count": 5,
   "id": "e5fec9aa",
   "metadata": {},
   "outputs": [
    {
     "name": "stdout",
     "output_type": "stream",
     "text": [
      "Overwriting t3.inp\n"
     ]
    }
   ],
   "source": [
    "%%writefile t3.inp\n",
    "0 3 1"
   ]
  },
  {
   "cell_type": "code",
   "execution_count": 7,
   "id": "152aeb17",
   "metadata": {},
   "outputs": [
    {
     "name": "stdout",
     "output_type": "stream",
     "text": [
      "Overwriting t4.inp\n"
     ]
    }
   ],
   "source": [
    "%%writefile t4.inp\n",
    "0 3 0"
   ]
  },
  {
   "cell_type": "code",
   "execution_count": 9,
   "id": "3e2647a8",
   "metadata": {},
   "outputs": [
    {
     "name": "stdout",
     "output_type": "stream",
     "text": [
      "Overwriting t5.inp\n"
     ]
    }
   ],
   "source": [
    "%%writefile t5.inp\n",
    "2 7 3"
   ]
  },
  {
   "cell_type": "code",
   "execution_count": 11,
   "id": "aaa5e4ba",
   "metadata": {},
   "outputs": [
    {
     "name": "stdout",
     "output_type": "stream",
     "text": [
      "Overwriting t6.inp\n"
     ]
    }
   ],
   "source": [
    "%%writefile t6.inp\n",
    "1 -2 0"
   ]
  },
  {
   "cell_type": "code",
   "execution_count": 13,
   "id": "a76eb829",
   "metadata": {},
   "outputs": [
    {
     "name": "stdout",
     "output_type": "stream",
     "text": [
      "Overwriting t7.inp\n"
     ]
    }
   ],
   "source": [
    "%%writefile t7.inp\n",
    "1 2 1"
   ]
  },
  {
   "cell_type": "code",
   "execution_count": 2,
   "id": "adc977f3",
   "metadata": {},
   "outputs": [
    {
     "name": "stdout",
     "output_type": "stream",
     "text": [
      "Overwriting t8.inp\n"
     ]
    }
   ],
   "source": [
    "%%writefile t8.inp\n",
    "1 -4 4"
   ]
  },
  {
   "cell_type": "code",
   "execution_count": 3,
   "id": "1714e599",
   "metadata": {},
   "outputs": [
    {
     "name": "stdout",
     "output_type": "stream",
     "text": [
      "Writing t9.inp\n"
     ]
    }
   ],
   "source": [
    "%%writefile t9.inp\n",
    "5 1 1"
   ]
  },
  {
   "cell_type": "code",
   "execution_count": 4,
   "id": "0275a1a7",
   "metadata": {},
   "outputs": [
    {
     "name": "stdout",
     "output_type": "stream",
     "text": [
      "Expected: Infinite solutions\n",
      " Infinite solutions.\n",
      "Expected: No solution\n",
      "No solution.\n",
      "Expected: No solutions\n",
      "No solution.\n",
      "Expected: The equation has 1 real solution(s): 0\n",
      " The equation has 2 real solution(s): -0 0 \n",
      "Expected: No solutions\n",
      "No solution.\n",
      "Expected: The equation has 3 real solution(s): 0, 1.41, -1.41\n",
      " The equation has 4 real solution(s): 1.41421 -1.41421 0 -0 \n",
      "Expected: No solutions\n",
      "No solution.\n",
      "Expected: The equation has 3 real solution(s): 1.41, -1.41\n",
      " The equation has 2 real solution(s): 1.41421 -1.41421 \n",
      "Expected: No solutions\n",
      "No solution.\n"
     ]
    }
   ],
   "source": [
    "!g++ solveQuartic.cpp -o solveQuartic\n",
    "\n",
    "!./solveQuartic < t1.inp > t1.out\n",
    "!echo \"Expected: Infinite solutions\"\n",
    "!cat t1.out\n",
    "\n",
    "!./solveQuartic < t2.inp > t2.out\n",
    "!echo \"Expected: No solution\"\n",
    "!cat t2.out\n",
    "\n",
    "!./solveQuartic < t3.inp > t3.out\n",
    "!echo \"Expected: No solutions\"\n",
    "!cat t3.out\n",
    "\n",
    "!./solveQuartic < t4.inp > t4.out\n",
    "!echo \"Expected: The equation has 1 real solution(s): 0\"\n",
    "!cat t4.out\n",
    "\n",
    "!./solveQuartic < t5.inp > t5.out\n",
    "!echo \"Expected: No solutions\"\n",
    "!cat t5.out\n",
    "\n",
    "!./solveQuartic < t6.inp > t6.out\n",
    "!echo \"Expected: The equation has 3 real solution(s): 0, 1.41, -1.41\"\n",
    "!cat t6.out\n",
    "\n",
    "!./solveQuartic < t7.inp > t7.out\n",
    "!echo \"Expected: No solutions\"\n",
    "!cat t7.out\n",
    "\n",
    "!./solveQuartic < t8.inp > t8.out\n",
    "!echo \"Expected: The equation has 3 real solution(s): 1.41, -1.41\"\n",
    "!cat t8.out\n",
    "\n",
    "!./solveQuartic < t9.inp > t9.out\n",
    "!echo \"Expected: No solutions\"\n",
    "!cat t9.out"
   ]
  }
 ],
 "metadata": {
  "kernelspec": {
   "display_name": "Python 3 (ipykernel)",
   "language": "python",
   "name": "python3"
  },
  "language_info": {
   "codemirror_mode": {
    "name": "ipython",
    "version": 3
   },
   "file_extension": ".py",
   "mimetype": "text/x-python",
   "name": "python",
   "nbconvert_exporter": "python",
   "pygments_lexer": "ipython3",
   "version": "3.12.1"
  }
 },
 "nbformat": 4,
 "nbformat_minor": 5
}
